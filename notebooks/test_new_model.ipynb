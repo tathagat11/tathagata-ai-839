{
 "cells": [
  {
   "cell_type": "code",
   "execution_count": 82,
   "metadata": {},
   "outputs": [],
   "source": [
    "import mlflow\n",
    "import pandas as pd"
   ]
  },
  {
   "cell_type": "code",
   "execution_count": 83,
   "metadata": {},
   "outputs": [],
   "source": [
    "model_b = model = mlflow.pyfunc.load_model(model_uri=\"models:/Model_Model_B/38\")\n",
    "X = pd.read_parquet(\"../data/04_feature/features_new.parquet\")\n",
    "y = pd.read_parquet(\"../data/04_feature/target_new.parquet\")\n"
   ]
  },
  {
   "cell_type": "code",
   "execution_count": 84,
   "metadata": {},
   "outputs": [
    {
     "name": "stdout",
     "output_type": "stream",
     "text": [
      "    Actual  Predicted\n",
      "0    False      False\n",
      "1    False      False\n",
      "2    False      False\n",
      "3    False      False\n",
      "4    False      False\n",
      "5     True       True\n",
      "6    False      False\n",
      "7     True       True\n",
      "8     True       True\n",
      "9    False      False\n",
      "10   False      False\n",
      "11   False      False\n",
      "12    True       True\n",
      "13    True       True\n",
      "14   False      False\n"
     ]
    }
   ],
   "source": [
    "y_pred = model_b.predict(X)\n",
    "y_pred = pd.DataFrame(y_pred)\n",
    "comparison = pd.concat([y, y_pred], axis=1)\n",
    "comparison.columns = ['Actual', 'Predicted']\n",
    "\n",
    "print(comparison.head(15))"
   ]
  },
  {
   "cell_type": "code",
   "execution_count": 85,
   "metadata": {},
   "outputs": [
    {
     "name": "stdout",
     "output_type": "stream",
     "text": [
      "    Actual  Predicted\n",
      "23    True      False\n",
      "34    True      False\n",
      "45    True      False\n",
      "75    True      False\n",
      "82    True      False\n",
      "96    True      False\n"
     ]
    }
   ],
   "source": [
    "differences = comparison[comparison['Actual'] != comparison['Predicted']]\n",
    "print(differences)"
   ]
  },
  {
   "cell_type": "code",
   "execution_count": 86,
   "metadata": {},
   "outputs": [
    {
     "name": "stdout",
     "output_type": "stream",
     "text": [
      "Indices where Actual and Predicted differ: [23, 34, 45, 75, 82, 96]\n",
      "Number of differing values: 6\n"
     ]
    }
   ],
   "source": [
    "diff_indices = differences.index\n",
    "\n",
    "print(f\"Indices where Actual and Predicted differ: {diff_indices.tolist()}\")\n",
    "\n",
    "num_differences = len(differences)\n",
    "print(f\"Number of differing values: {num_differences}\")"
   ]
  },
  {
   "cell_type": "code",
   "execution_count": null,
   "metadata": {},
   "outputs": [],
   "source": []
  }
 ],
 "metadata": {
  "kernelspec": {
   "display_name": "Kedro (tathagata_ai_839)",
   "language": "python",
   "name": "kedro_tathagata_ai_839"
  },
  "language_info": {
   "codemirror_mode": {
    "name": "ipython",
    "version": 3
   },
   "file_extension": ".py",
   "mimetype": "text/x-python",
   "name": "python",
   "nbconvert_exporter": "python",
   "pygments_lexer": "ipython3",
   "version": "3.10.12"
  }
 },
 "nbformat": 4,
 "nbformat_minor": 2
}
