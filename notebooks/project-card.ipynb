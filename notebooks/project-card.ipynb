{
 "cells": [
  {
   "cell_type": "markdown",
   "metadata": {
    "tags": [
     "header"
    ]
   },
   "source": [
    "---\n",
    "title:  Project Card\n",
    "subtitle: Project Name\n",
    "version: v0.2\n",
    "card version: v0.1\n",
    "author: Soma S Dhavala\n",
    "date: 05-Aug-2025\n",
    "objective: >\n",
    "    The purpose of Project Cards is two folds. During development, it helps the developer think about the problem in a structured way w.r. t framing the problem, assessing the business value, viability, and many other aspects. \n",
    "\n",
    "    It can also serve as a document giving a high level overview of the system developed and deployed. With proper versioning, one can also see the evolution of the problem. It is meant to be a high level document and as details emerge, documents such Model Cards and Data Cards can be linked.\n",
    "tag: >\n",
    "    This notebook uses tags to render the output. Each call has a tag. There are three tags: objective, instruction, response. \n",
    "    The cell with objective tag explains the purpose of this project card. Cells with instruction tag, are the key sections of the document that must be filled.  A cell following immediately will have a tag response. You only fill the cell with response tag. DO NOT MODIFY the cells with tag instruction. Of course, feel free to modify to your needs. Once the format is agreed upon, stick to it.\n",
    "format:\n",
    "    html:\n",
    "        code-fold: true\n",
    "---"
   ]
  },
  {
   "cell_type": "markdown",
   "metadata": {
    "tags": [
     "objective"
    ]
   },
   "source": [
    "The purpose of Project Cards is two folds. During development, it helps the developer think about the problem in a structured way w.r. t framing the problem, assessing the business value, viability, and many other aspects. \n",
    "\n",
    "It can also serve as a document giving a high level overview of the system developed and deployed. With proper versioning, one can also see the evolution of the problem. It is meant to be a high level document and as details emerge, documents such Model Cards and Data Cards can be linked. \n",
    "\n",
    "The following are the different sections of the Project Cards.\n",
    "\n",
    "This notebook uses tags to render the output. Each call has a tag. There are three tags: objective, instruction, response. \n",
    "    The cell with objective tag explains the purpose of this project card. Cells with instruction tag, are the key sections of the document that must be filled.  A cell following immediately will have a tag response. You only fill the cell with response tag. DO NOT MODIFY the cells with tag instruction. Of course, feel free to modify to your needs. Once the format is agreed upon, stick to it."
   ]
  },
  {
   "cell_type": "markdown",
   "metadata": {
    "tags": [
     "instruction"
    ]
   },
   "source": [
    "# Business View"
   ]
  },
  {
   "cell_type": "markdown",
   "metadata": {},
   "source": [
    "## Background\n",
    "_Provide succinct **background** to the problem so that the reader can empathize with the problem._"
   ]
  },
  {
   "cell_type": "markdown",
   "metadata": {
    "tags": [
     "response"
    ]
   },
   "source": [
    "your response"
   ]
  },
  {
   "cell_type": "markdown",
   "metadata": {
    "tags": [
     "instruction"
    ]
   },
   "source": [
    "## Problem\n",
    "_**What** is the problem being solved?_"
   ]
  },
  {
   "cell_type": "markdown",
   "metadata": {
    "tags": [
     "response"
    ]
   },
   "source": [
    "your response"
   ]
  },
  {
   "cell_type": "markdown",
   "metadata": {
    "tags": [
     "instruction"
    ]
   },
   "source": [
    "## Customer\n",
    "_**Who** it is for? Is that a _user_ or a _beneficiary_?\n",
    "What is the problem being solved? Who it is for?_"
   ]
  },
  {
   "cell_type": "markdown",
   "metadata": {
    "tags": [
     "response"
    ]
   },
   "source": [
    "your response"
   ]
  },
  {
   "cell_type": "markdown",
   "metadata": {
    "tags": [
     "instruction"
    ]
   },
   "source": [
    "## Value Proposition\n",
    "_Why it needs to be solved?_"
   ]
  },
  {
   "cell_type": "markdown",
   "metadata": {
    "tags": [
     "response"
    ]
   },
   "source": [
    "your response"
   ]
  },
  {
   "cell_type": "markdown",
   "metadata": {
    "tags": [
     "instruction"
    ]
   },
   "source": [
    "## Product\n",
    "_How does the solution look like? It is more of the experience, rather how it will be developed._"
   ]
  },
  {
   "cell_type": "markdown",
   "metadata": {
    "tags": [
     "response"
    ]
   },
   "source": [
    "your response"
   ]
  },
  {
   "cell_type": "markdown",
   "metadata": {
    "tags": [
     "instruction"
    ]
   },
   "source": [
    "## Objectives\n",
    "_Breakdown the product into key (business) objectives that need to be delivered?_\n",
    "[SMART Goals](https://med.stanford.edu/content/dam/sm/s-spire/documents/How-to-write-SMART-Goals-v2.pdf) is useful to frame"
   ]
  },
  {
   "cell_type": "markdown",
   "metadata": {
    "tags": [
     "response"
    ]
   },
   "source": [
    "your response"
   ]
  },
  {
   "cell_type": "markdown",
   "metadata": {
    "tags": [
     "instruction"
    ]
   },
   "source": [
    "## Risks & Challenges\n",
    "_What are the challenges one can face and ways to overcome?_"
   ]
  },
  {
   "cell_type": "markdown",
   "metadata": {
    "tags": [
     "response"
    ]
   },
   "source": [
    "your response"
   ]
  },
  {
   "cell_type": "markdown",
   "metadata": {
    "tags": [
     "instruction"
    ]
   },
   "source": [
    "# ML View"
   ]
  },
  {
   "cell_type": "markdown",
   "metadata": {
    "tags": [
     "instruction"
    ]
   },
   "source": [
    "## Task\n",
    "_What type of prediction problem is this? Link [Model Card](https://arxiv.org/abs/1810.03993) when sufficient details become available (start small but early)_"
   ]
  },
  {
   "cell_type": "markdown",
   "metadata": {
    "tags": [
     "response"
    ]
   },
   "source": [
    "your response"
   ]
  },
  {
   "cell_type": "markdown",
   "metadata": {
    "tags": [
     "instruction"
    ]
   },
   "source": [
    "## Metrics\n",
    "_How will the solution be evaluated - What are the ML metrics? What are the business metrics? Link [Model Card](https://arxiv.org/abs/1810.03993) when sufficient details become available (start small but early)_"
   ]
  },
  {
   "cell_type": "markdown",
   "metadata": {
    "tags": [
     "response"
    ]
   },
   "source": [
    "your response"
   ]
  },
  {
   "cell_type": "markdown",
   "metadata": {
    "tags": [
     "instruction"
    ]
   },
   "source": [
    "## Evaluation\n",
    "_How will the solution be evaluated (process)? Link [Model Card](https://arxiv.org/abs/1810.03993) when sufficient details become available (start small but early)_"
   ]
  },
  {
   "cell_type": "markdown",
   "metadata": {
    "tags": [
     "response"
    ]
   },
   "source": [
    "your response"
   ]
  },
  {
   "cell_type": "markdown",
   "metadata": {
    "tags": [
     "instruction"
    ]
   },
   "source": [
    "## Data\n",
    "_What type of data is needed? How will it be collected - for training and for continuous improvement? Link  [Data Cards](https://arxiv.org/abs/2204.01075) when sufficient details become available (start small but early)_"
   ]
  },
  {
   "cell_type": "markdown",
   "metadata": {
    "tags": [
     "response"
    ]
   },
   "source": [
    "your response"
   ]
  },
  {
   "cell_type": "markdown",
   "metadata": {
    "tags": [
     "instruction"
    ]
   },
   "source": [
    "## Plan/ Roadmap\n",
    "_Provide problem break-up, tentative timelines and deliverables? Use [PACT](https://nesslabs.com/smart-goals-pact) format if SMART is not suitable._"
   ]
  },
  {
   "cell_type": "markdown",
   "metadata": {
    "tags": [
     "response"
    ]
   },
   "source": [
    "your response"
   ]
  },
  {
   "cell_type": "markdown",
   "metadata": {
    "tags": [
     "instruction"
    ]
   },
   "source": [
    "## Continuous Improvement\n",
    "_How will the system/model will improve? Provide a plan and means._"
   ]
  },
  {
   "cell_type": "markdown",
   "metadata": {
    "tags": [
     "response"
    ]
   },
   "source": [
    "your response"
   ]
  },
  {
   "cell_type": "markdown",
   "metadata": {
    "tags": [
     "instruction"
    ]
   },
   "source": [
    "## Resources\n",
    "_What resources are needed? Estimate the cost!_"
   ]
  },
  {
   "cell_type": "markdown",
   "metadata": {
    "tags": [
     "response"
    ]
   },
   "source": [
    "your response"
   ]
  },
  {
   "cell_type": "markdown",
   "metadata": {
    "tags": [
     "instruction"
    ]
   },
   "source": [
    "\n",
    "### Human Resources\n",
    "_what type of team and strength needed?_"
   ]
  },
  {
   "cell_type": "markdown",
   "metadata": {
    "tags": [
     "response"
    ]
   },
   "source": [
    "your response"
   ]
  },
  {
   "cell_type": "markdown",
   "metadata": {
    "tags": [
     "instruction"
    ]
   },
   "source": [
    "### Compute Resources\n",
    "_What type of compute resources needed to train and serve?_"
   ]
  },
  {
   "cell_type": "markdown",
   "metadata": {
    "tags": [
     "response"
    ]
   },
   "source": [
    "your response"
   ]
  }
 ],
 "metadata": {
  "language_info": {
   "name": "python"
  }
 },
 "nbformat": 4,
 "nbformat_minor": 2
}