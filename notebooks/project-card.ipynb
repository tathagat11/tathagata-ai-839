{
 "cells": [
  {
   "cell_type": "markdown",
   "metadata": {
    "tags": [
     "header"
    ]
   },
   "source": [
    "---\n",
    "title:  Project Card\n",
    "subtitle: Project Name\n",
    "version: v0.2\n",
    "card version: v0.1\n",
    "author: Soma S Dhavala\n",
    "date: 05-Aug-2025\n",
    "objective: >\n",
    "    The purpose of Project Cards is two folds. During development, it helps the developer think about the problem in a structured way w.r. t framing the problem, assessing the business value, viability, and many other aspects. \n",
    "\n",
    "    It can also serve as a document giving a high level overview of the system developed and deployed. With proper versioning, one can also see the evolution of the problem. It is meant to be a high level document and as details emerge, documents such Model Cards and Data Cards can be linked.\n",
    "tag: >\n",
    "    This notebook uses tags to render the output. Each call has a tag. There are three tags: objective, instruction, response. \n",
    "    The cell with objective tag explains the purpose of this project card. Cells with instruction tag, are the key sections of the document that must be filled.  A cell following immediately will have a tag response. You only fill the cell with response tag. DO NOT MODIFY the cells with tag instruction. Of course, feel free to modify to your needs. Once the format is agreed upon, stick to it.\n",
    "format:\n",
    "    html:\n",
    "        code-fold: true\n",
    "---"
   ]
  },
  {
   "cell_type": "markdown",
   "metadata": {
    "tags": [
     "objective"
    ]
   },
   "source": [
    "The purpose of Project Cards is two folds. During development, it helps the developer think about the problem in a structured way w.r. t framing the problem, assessing the business value, viability, and many other aspects. \n",
    "\n",
    "It can also serve as a document giving a high level overview of the system developed and deployed. With proper versioning, one can also see the evolution of the problem. It is meant to be a high level document and as details emerge, documents such Model Cards and Data Cards can be linked. \n",
    "\n",
    "The following are the different sections of the Project Cards.\n",
    "\n",
    "This notebook uses tags to render the output. Each call has a tag. There are three tags: objective, instruction, response. \n",
    "    The cell with objective tag explains the purpose of this project card. Cells with instruction tag, are the key sections of the document that must be filled.  A cell following immediately will have a tag response. You only fill the cell with response tag. DO NOT MODIFY the cells with tag instruction. Of course, feel free to modify to your needs. Once the format is agreed upon, stick to it."
   ]
  },
  {
   "cell_type": "markdown",
   "metadata": {
    "tags": [
     "instruction"
    ]
   },
   "source": [
    "# Business View"
   ]
  },
  {
   "cell_type": "markdown",
   "metadata": {},
   "source": [
    "## Background\n",
    "_Provide succinct **background** to the problem so that the reader can empathize with the problem._"
   ]
  },
  {
   "cell_type": "markdown",
   "metadata": {
    "tags": [
     "response"
    ]
   },
   "source": [
    "The sinking of the RMS Titanic on its maiden voyage in 1912 is one of the most infamous shipwrecks in history. Out of the 2,224 passengers and crew on board, only 712 survived the catastrophic event. While there was an element of luck involved, it seems that certain groups of people were more likely to survive than others."
   ]
  },
  {
   "cell_type": "markdown",
   "metadata": {
    "tags": [
     "instruction"
    ]
   },
   "source": [
    "## Problem\n",
    "_**What** is the problem being solved?_"
   ]
  },
  {
   "cell_type": "markdown",
   "metadata": {
    "tags": [
     "response"
    ]
   },
   "source": [
    "The key problem is to build a predictive model that can accurately determine which passengers were more likely to survive the Titanic disaster. By analyzing the available passenger data, such as name, age, gender, socio-economic class, etc., the goal is to identify the factors that influenced the likelihood of survival."
   ]
  },
  {
   "cell_type": "markdown",
   "metadata": {
    "tags": [
     "instruction"
    ]
   },
   "source": [
    "## Customer\n",
    "_**Who** it is for? Is that a _user_ or a _beneficiary_?\n",
    "What is the problem being solved? Who it is for?_"
   ]
  },
  {
   "cell_type": "markdown",
   "metadata": {
    "tags": [
     "response"
    ]
   },
   "source": [
    "The primary customers for this project are data science students statisticians and possibly enthusiasts that are willing to dive deeper into this significant event in our history. The insights gained from this analysis could also be useful for maritime safety organizations and historians studying the Titanic disaster."
   ]
  },
  {
   "cell_type": "markdown",
   "metadata": {
    "tags": [
     "instruction"
    ]
   },
   "source": [
    "## Value Proposition\n",
    "_Why it needs to be solved?_"
   ]
  },
  {
   "cell_type": "markdown",
   "metadata": {
    "tags": [
     "response"
    ]
   },
   "source": [
    "Solving this problem will provide valuable insights into the factors that affected passenger survival during the Titanic sinking. The predictive model developed can be used to educate people about the dynamics of the disaster and potentially inform future maritime safety protocols. Additionally, this project serves as an excellent learning opportunity for those new to data science and machine learning such as myself."
   ]
  },
  {
   "cell_type": "markdown",
   "metadata": {
    "tags": [
     "instruction"
    ]
   },
   "source": [
    "## Product\n",
    "_How does the solution look like? It is more of the experience, rather how it will be developed._"
   ]
  },
  {
   "cell_type": "markdown",
   "metadata": {
    "tags": [
     "response"
    ]
   },
   "source": [
    "The solution should provide a predictive model that can accurately identify which passengers are likely to have survived the Titanic disaster based on the available passenger data. This model can be used to make binary predictions (survived or not survived) for the test set of passengers."
   ]
  },
  {
   "cell_type": "markdown",
   "metadata": {
    "tags": [
     "instruction"
    ]
   },
   "source": [
    "## Objectives\n",
    "_Breakdown the product into key (business) objectives that need to be delivered?_\n",
    "[SMART Goals](https://med.stanford.edu/content/dam/sm/s-spire/documents/How-to-write-SMART-Goals-v2.pdf) is useful to frame"
   ]
  },
  {
   "cell_type": "markdown",
   "metadata": {
    "tags": [
     "response"
    ]
   },
   "source": [
    "1. Accuracy: Develop a machine learning model that can predict passenger survival with an 2.accuracy of at least 80%.\n",
    "2. Interpretability: Ensure the model's predictions are interpretable, providing insights into the key factors that influenced survival.\n",
    "3. Generalization: Ensure the model can generalize well to new, unseen passenger data, not just the training set.\n",
    "4. Scalability: Design the solution in a way that it can be easily extended to handle larger passenger datasets or similar maritime disaster scenarios."
   ]
  },
  {
   "cell_type": "markdown",
   "metadata": {
    "tags": [
     "instruction"
    ]
   },
   "source": [
    "## Risks & Challenges\n",
    "_What are the challenges one can face and ways to overcome?_"
   ]
  },
  {
   "cell_type": "markdown",
   "metadata": {
    "tags": [
     "response"
    ]
   },
   "source": [
    "1. Data Quality: The passenger data may contain missing values, inconsistencies, or biases that could impact the model's performance.\n",
    "2. Feature Engineering: Determining the most relevant features from the available passenger information and engineering them appropriately will be a key challenge.\n",
    "3. Model Complexity: Balancing model complexity to achieve high accuracy while maintaining interpretability may require careful experimentation.\n",
    "4. Overfitting: Ensuring the model does not overfit to the training data and can generalize to new, unseen passengers will be crucial."
   ]
  },
  {
   "cell_type": "markdown",
   "metadata": {
    "tags": [
     "instruction"
    ]
   },
   "source": [
    "# ML View"
   ]
  },
  {
   "cell_type": "markdown",
   "metadata": {
    "tags": [
     "instruction"
    ]
   },
   "source": [
    "## Task\n",
    "_What type of prediction problem is this? Link [Model Card](https://arxiv.org/abs/1810.03993) when sufficient details become available (start small but early)_"
   ]
  },
  {
   "cell_type": "markdown",
   "metadata": {
    "tags": [
     "response"
    ]
   },
   "source": [
    "This is a binary classification problem, where the goal is to predict whether each passenger survived the Titanic disaster or not. A Model Card will be created to document the details of the model as the project progresses."
   ]
  },
  {
   "cell_type": "markdown",
   "metadata": {
    "tags": [
     "instruction"
    ]
   },
   "source": [
    "## Metrics\n",
    "_How will the solution be evaluated - What are the ML metrics? What are the business metrics? Link [Model Card](https://arxiv.org/abs/1810.03993) when sufficient details become available (start small but early)_"
   ]
  },
  {
   "cell_type": "markdown",
   "metadata": {
    "tags": [
     "response"
    ]
   },
   "source": [
    "1. Classification Accuracy: The percentage of passengers correctly predicted as survived or not survived.\n",
    "2. F1-Score: The harmonic mean of precision and recall, to balance the model's ability to correctly identify both survived and not survived passengers.\n",
    "3. Quantifying how much each factor played a role in the Survivability of passengers."
   ]
  },
  {
   "cell_type": "markdown",
   "metadata": {
    "tags": [
     "instruction"
    ]
   },
   "source": [
    "## Evaluation\n",
    "_How will the solution be evaluated (process)? Link [Model Card](https://arxiv.org/abs/1810.03993) when sufficient details become available (start small but early)_"
   ]
  },
  {
   "cell_type": "markdown",
   "metadata": {
    "tags": [
     "response"
    ]
   },
   "source": [
    "The predictive model will be evaluated using a held-out test set, representing a sample of the passenger data. The model's performance on this test set will be used to estimate its real-world effectiveness in predicting passenger survival."
   ]
  },
  {
   "cell_type": "markdown",
   "metadata": {
    "tags": [
     "instruction"
    ]
   },
   "source": [
    "## Data\n",
    "_What type of data is needed? How will it be collected - for training and for continuous improvement? Link  [Data Cards](https://arxiv.org/abs/2204.01075) when sufficient details become available (start small but early)_"
   ]
  },
  {
   "cell_type": "markdown",
   "metadata": {
    "tags": [
     "response"
    ]
   },
   "source": [
    "The primary data source will be the Titanic passenger manifest, which includes information such as passenger ticket class, gender, age, number of siblings/spouses, number of parents/children aboard, ticket number, fare, cabin number, port of embarkation and survival status. This data will be used to train and test the predictive model."
   ]
  },
  {
   "cell_type": "markdown",
   "metadata": {
    "tags": [
     "instruction"
    ]
   },
   "source": [
    "## Plan/ Roadmap\n",
    "_Provide problem break-up, tentative timelines and deliverables? Use [PACT](https://nesslabs.com/smart-goals-pact) format if SMART is not suitable._"
   ]
  },
  {
   "cell_type": "markdown",
   "metadata": {
    "tags": [
     "response"
    ]
   },
   "source": [
    "1. Data Exploration and Preprocessing\n",
    "\n",
    "    - Analyze the quality and completeness of the passenger data\n",
    "    - Engineer relevant features from the available information\n",
    "    - Handle missing values and address any data inconsistencies\n",
    "\n",
    "\n",
    "2. Model Development\n",
    "\n",
    "    - Evaluate various classification algorithms (e.g., logistic regression, decision trees, random forests)\n",
    "    - Tune model hyperparameters and select the best-performing approach\n",
    "    - Implement the model to generate passenger survival predictions\n",
    "\n",
    "\n",
    "3. Model Evaluation and Refinement\n",
    "\n",
    "    - Assess the model's performance on the held-out test set\n",
    "    - Analyze the model's feature importance and interpret the key factors affecting survival\n",
    "    - Experiment with the model architecture and feature engineering as needed to improve accuracy\n",
    "\n",
    "\n",
    "4. Deployment and Dissemination\n",
    "\n",
    "    - Document the project findings and insights in a clear and accessible format\n",
    "    - Share the project and its results with the broader data science community and among relevant enthusiasts\n",
    "    - Explore opportunities to use the model for maritime safety initiatives"
   ]
  },
  {
   "cell_type": "markdown",
   "metadata": {
    "tags": [
     "instruction"
    ]
   },
   "source": [
    "## Continuous Improvement\n",
    "_How will the system/model will improve? Provide a plan and means._"
   ]
  },
  {
   "cell_type": "markdown",
   "metadata": {
    "tags": [
     "response"
    ]
   },
   "source": [
    "To ensure the model remains accurate and effective over time, the following processes will be implemented:\n",
    "\n",
    "1. Ongoing Data Collection: Monitor for any new or updated Titanic passenger data that could be used to further refine the model.\n",
    "2. Periodic Retraining: The model will be retrained at regular intervals to update with the latest data and maintain its predictive accuracy.\n",
    "3. Performance Monitoring: Monitor the model's performance, tracking key metrics such as classification accuracy and F1-score. Any significant changes or degradation in performance may mean a model update, reqork is necessary."
   ]
  },
  {
   "cell_type": "markdown",
   "metadata": {
    "tags": [
     "instruction"
    ]
   },
   "source": [
    "## Resources\n",
    "_What resources are needed? Estimate the cost!_"
   ]
  },
  {
   "cell_type": "markdown",
   "metadata": {
    "tags": [
     "response"
    ]
   },
   "source": [
    "TBD. Not sure what to put here yet."
   ]
  },
  {
   "cell_type": "markdown",
   "metadata": {
    "tags": [
     "instruction"
    ]
   },
   "source": [
    "\n",
    "### Human Resources\n",
    "_what type of team and strength needed?_"
   ]
  },
  {
   "cell_type": "markdown",
   "metadata": {
    "tags": [
     "response"
    ]
   },
   "source": [
    "The project will require the following team members:\n",
    "\n",
    "- 1 Machine Learning Engineer: To lead the model development and deployment efforts\n",
    "- 1 Data Engineer: To manage the data pipeline and prepare the passenger data for modeling\n",
    "- 1 Domain Expert: To provide subject matter expertise on the Titanic disaster and its historical context\n",
    "- 1 Technical Writer: To document the project findings and insights in a clear and accessible format"
   ]
  },
  {
   "cell_type": "markdown",
   "metadata": {
    "tags": [
     "instruction"
    ]
   },
   "source": [
    "### Compute Resources\n",
    "_What type of compute resources needed to train and serve?_"
   ]
  },
  {
   "cell_type": "markdown",
   "metadata": {
    "tags": [
     "response"
    ]
   },
   "source": [
    "TBD: This is a first time for doing a project like this. While the data is not very large, it would benefit from large computation in case a complex model is required for best predictions. Resources may include Cloud Based GPU/CPU instances, sufficient amount of memory and serverless infrastructure."
   ]
  }
 ],
 "metadata": {
  "kernelspec": {
   "display_name": "Kedro (tathagata_ai_839)",
   "language": "python",
   "name": "kedro_tathagata_ai_839"
  }
 },
 "nbformat": 4,
 "nbformat_minor": 4
}
