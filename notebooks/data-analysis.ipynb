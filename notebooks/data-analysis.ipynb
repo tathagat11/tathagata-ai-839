{
 "cells": [
  {
   "cell_type": "markdown",
   "metadata": {},
   "source": [
    "# Data Card for Soybean Dataset\n",
    "\n",
    "## Dataset Information"
   ]
  },
  {
   "cell_type": "code",
   "execution_count": 55,
   "metadata": {},
   "outputs": [
    {
     "data": {
      "text/html": [
       "<pre style=\"white-space:pre;overflow-x:auto;line-height:normal;font-family:Menlo,'DejaVu Sans Mono',consolas,'Courier New',monospace\"><span style=\"color: #7fbfbf; text-decoration-color: #7fbfbf\">[08/26/24 23:30:23] </span><span style=\"color: #800000; text-decoration-color: #800000\">WARNING </span> <span style=\"color: #800080; text-decoration-color: #800080\">/tmp/ipykernel_14968/</span><span style=\"color: #ff00ff; text-decoration-color: #ff00ff\">3353563578.py</span>:<span style=\"color: #008080; text-decoration-color: #008080; font-weight: bold\">7</span>: FutureWarning: Starting from     <a href=\"file:///usr/lib/python3.10/warnings.py\" target=\"_blank\"><span style=\"color: #7f7f7f; text-decoration-color: #7f7f7f\">warnings.py</span></a><span style=\"color: #7f7f7f; text-decoration-color: #7f7f7f\">:</span><a href=\"file:///usr/lib/python3.10/warnings.py#109\" target=\"_blank\"><span style=\"color: #7f7f7f; text-decoration-color: #7f7f7f\">109</span></a>\n",
       "<span style=\"color: #7fbfbf; text-decoration-color: #7fbfbf\">                    </span>         Version <span style=\"color: #008080; text-decoration-color: #008080; font-weight: bold\">0.15</span> `download_data`, `download_qualities`, and                <span style=\"color: #7f7f7f; text-decoration-color: #7f7f7f\">               </span>\n",
       "<span style=\"color: #7fbfbf; text-decoration-color: #7fbfbf\">                    </span>         `download_features_meta_data` will all be ``<span style=\"color: #ff0000; text-decoration-color: #ff0000; font-style: italic\">False</span>`` instead of         <span style=\"color: #7f7f7f; text-decoration-color: #7f7f7f\">               </span>\n",
       "<span style=\"color: #7fbfbf; text-decoration-color: #7fbfbf\">                    </span>         ``<span style=\"color: #00ff00; text-decoration-color: #00ff00; font-style: italic\">True</span>`` by default to enable lazy loading. To disable this message    <span style=\"color: #7f7f7f; text-decoration-color: #7f7f7f\">               </span>\n",
       "<span style=\"color: #7fbfbf; text-decoration-color: #7fbfbf\">                    </span>         until version <span style=\"color: #008080; text-decoration-color: #008080; font-weight: bold\">0.15</span> explicitly set `download_data`,                     <span style=\"color: #7f7f7f; text-decoration-color: #7f7f7f\">               </span>\n",
       "<span style=\"color: #7fbfbf; text-decoration-color: #7fbfbf\">                    </span>         `download_qualities`, and `download_features_meta_data` to a bool      <span style=\"color: #7f7f7f; text-decoration-color: #7f7f7f\">               </span>\n",
       "<span style=\"color: #7fbfbf; text-decoration-color: #7fbfbf\">                    </span>         while calling `get_dataset`.                                           <span style=\"color: #7f7f7f; text-decoration-color: #7f7f7f\">               </span>\n",
       "<span style=\"color: #7fbfbf; text-decoration-color: #7fbfbf\">                    </span>           dataset = <span style=\"color: #800080; text-decoration-color: #800080; font-weight: bold\">datasets.get_dataset</span><span style=\"font-weight: bold\">(</span><span style=\"color: #008080; text-decoration-color: #008080; font-weight: bold\">42</span><span style=\"font-weight: bold\">)</span>                                   <span style=\"color: #7f7f7f; text-decoration-color: #7f7f7f\">               </span>\n",
       "<span style=\"color: #7fbfbf; text-decoration-color: #7fbfbf\">                    </span>                                                                                <span style=\"color: #7f7f7f; text-decoration-color: #7f7f7f\">               </span>\n",
       "</pre>\n"
      ],
      "text/plain": [
       "\u001b[2;36m[08/26/24 23:30:23]\u001b[0m\u001b[2;36m \u001b[0m\u001b[31mWARNING \u001b[0m \u001b[35m/tmp/ipykernel_14968/\u001b[0m\u001b[95m3353563578.py\u001b[0m:\u001b[1;36m7\u001b[0m: FutureWarning: Starting from     \u001b]8;id=619220;file:///usr/lib/python3.10/warnings.py\u001b\\\u001b[2mwarnings.py\u001b[0m\u001b]8;;\u001b\\\u001b[2m:\u001b[0m\u001b]8;id=411748;file:///usr/lib/python3.10/warnings.py#109\u001b\\\u001b[2m109\u001b[0m\u001b]8;;\u001b\\\n",
       "\u001b[2;36m                    \u001b[0m         Version \u001b[1;36m0.15\u001b[0m `download_data`, `download_qualities`, and                \u001b[2m               \u001b[0m\n",
       "\u001b[2;36m                    \u001b[0m         `download_features_meta_data` will all be ``\u001b[3;91mFalse\u001b[0m`` instead of         \u001b[2m               \u001b[0m\n",
       "\u001b[2;36m                    \u001b[0m         ``\u001b[3;92mTrue\u001b[0m`` by default to enable lazy loading. To disable this message    \u001b[2m               \u001b[0m\n",
       "\u001b[2;36m                    \u001b[0m         until version \u001b[1;36m0.15\u001b[0m explicitly set `download_data`,                     \u001b[2m               \u001b[0m\n",
       "\u001b[2;36m                    \u001b[0m         `download_qualities`, and `download_features_meta_data` to a bool      \u001b[2m               \u001b[0m\n",
       "\u001b[2;36m                    \u001b[0m         while calling `get_dataset`.                                           \u001b[2m               \u001b[0m\n",
       "\u001b[2;36m                    \u001b[0m           dataset = \u001b[1;35mdatasets.get_dataset\u001b[0m\u001b[1m(\u001b[0m\u001b[1;36m42\u001b[0m\u001b[1m)\u001b[0m                                   \u001b[2m               \u001b[0m\n",
       "\u001b[2;36m                    \u001b[0m                                                                                \u001b[2m               \u001b[0m\n"
      ]
     },
     "metadata": {},
     "output_type": "display_data"
    },
    {
     "data": {
      "text/html": [
       "<pre style=\"white-space:pre;overflow-x:auto;line-height:normal;font-family:Menlo,'DejaVu Sans Mono',consolas,'Courier New',monospace\"><span style=\"color: #7fbfbf; text-decoration-color: #7fbfbf\">                    </span><span style=\"color: #800000; text-decoration-color: #800000\">WARNING </span> <span style=\"color: #800080; text-decoration-color: #800080\">/tmp/ipykernel_14968/</span><span style=\"color: #ff00ff; text-decoration-color: #ff00ff\">3353563578.py</span>:<span style=\"color: #008080; text-decoration-color: #008080; font-weight: bold\">9</span>: FutureWarning: Support for       <a href=\"file:///usr/lib/python3.10/warnings.py\" target=\"_blank\"><span style=\"color: #7f7f7f; text-decoration-color: #7f7f7f\">warnings.py</span></a><span style=\"color: #7f7f7f; text-decoration-color: #7f7f7f\">:</span><a href=\"file:///usr/lib/python3.10/warnings.py#109\" target=\"_blank\"><span style=\"color: #7f7f7f; text-decoration-color: #7f7f7f\">109</span></a>\n",
       "<span style=\"color: #7fbfbf; text-decoration-color: #7fbfbf\">                    </span>         `<span style=\"color: #808000; text-decoration-color: #808000\">dataset_format</span>=<span style=\"color: #008000; text-decoration-color: #008000\">'array'</span>` will be removed in <span style=\"color: #008080; text-decoration-color: #008080; font-weight: bold\">0.15</span>,start using           <span style=\"color: #7f7f7f; text-decoration-color: #7f7f7f\">               </span>\n",
       "<span style=\"color: #7fbfbf; text-decoration-color: #7fbfbf\">                    </span>         `<span style=\"color: #808000; text-decoration-color: #808000\">dataset_format</span>=<span style=\"color: #008000; text-decoration-color: #008000\">'dataframe'</span> to ensure your code will continue to work. <span style=\"color: #7f7f7f; text-decoration-color: #7f7f7f\">               </span>\n",
       "<span style=\"color: #7fbfbf; text-decoration-color: #7fbfbf\">                    </span>         You can use the dataframe's `to_numpy` function to continue using      <span style=\"color: #7f7f7f; text-decoration-color: #7f7f7f\">               </span>\n",
       "<span style=\"color: #7fbfbf; text-decoration-color: #7fbfbf\">                    </span>         numpy arrays.                                                          <span style=\"color: #7f7f7f; text-decoration-color: #7f7f7f\">               </span>\n",
       "<span style=\"color: #7fbfbf; text-decoration-color: #7fbfbf\">                    </span>           X, y, categorical_indicator, attribute_names = <span style=\"color: #800080; text-decoration-color: #800080; font-weight: bold\">dataset.get_data</span><span style=\"font-weight: bold\">(</span>     <span style=\"color: #7f7f7f; text-decoration-color: #7f7f7f\">               </span>\n",
       "<span style=\"color: #7fbfbf; text-decoration-color: #7fbfbf\">                    </span>                                                                                <span style=\"color: #7f7f7f; text-decoration-color: #7f7f7f\">               </span>\n",
       "</pre>\n"
      ],
      "text/plain": [
       "\u001b[2;36m                   \u001b[0m\u001b[2;36m \u001b[0m\u001b[31mWARNING \u001b[0m \u001b[35m/tmp/ipykernel_14968/\u001b[0m\u001b[95m3353563578.py\u001b[0m:\u001b[1;36m9\u001b[0m: FutureWarning: Support for       \u001b]8;id=312682;file:///usr/lib/python3.10/warnings.py\u001b\\\u001b[2mwarnings.py\u001b[0m\u001b]8;;\u001b\\\u001b[2m:\u001b[0m\u001b]8;id=400356;file:///usr/lib/python3.10/warnings.py#109\u001b\\\u001b[2m109\u001b[0m\u001b]8;;\u001b\\\n",
       "\u001b[2;36m                    \u001b[0m         `\u001b[33mdataset_format\u001b[0m=\u001b[32m'array'\u001b[0m` will be removed in \u001b[1;36m0.15\u001b[0m,start using           \u001b[2m               \u001b[0m\n",
       "\u001b[2;36m                    \u001b[0m         `\u001b[33mdataset_format\u001b[0m=\u001b[32m'dataframe'\u001b[0m to ensure your code will continue to work. \u001b[2m               \u001b[0m\n",
       "\u001b[2;36m                    \u001b[0m         You can use the dataframe's `to_numpy` function to continue using      \u001b[2m               \u001b[0m\n",
       "\u001b[2;36m                    \u001b[0m         numpy arrays.                                                          \u001b[2m               \u001b[0m\n",
       "\u001b[2;36m                    \u001b[0m           X, y, categorical_indicator, attribute_names = \u001b[1;35mdataset.get_data\u001b[0m\u001b[1m(\u001b[0m     \u001b[2m               \u001b[0m\n",
       "\u001b[2;36m                    \u001b[0m                                                                                \u001b[2m               \u001b[0m\n"
      ]
     },
     "metadata": {},
     "output_type": "display_data"
    },
    {
     "name": "stdout",
     "output_type": "stream",
     "text": [
      "Target attribute: class\n",
      "\n",
      "Dataset saved to 'data/soybean_v1.csv'\n"
     ]
    }
   ],
   "source": [
    "from openml import datasets\n",
    "from pymfe.mfe import MFE\n",
    "import pandas as pd\n",
    "import numpy as np\n",
    "\n",
    "# Download the dataset\n",
    "dataset = datasets.get_dataset(42)  \n",
    "# dataset = datasets.get_dataset(1023)  # Uncomment this line for version v2\n",
    "X, y, categorical_indicator, attribute_names = dataset.get_data(\n",
    "    dataset_format=\"array\", target=dataset.default_target_attribute\n",
    ")\n",
    "\n",
    "print(\"Target attribute:\", dataset.default_target_attribute)\n",
    "\n",
    "# Converting to df\n",
    "df = pd.DataFrame(X, columns=attribute_names)\n",
    "df = pd.DataFrame(X, columns=attribute_names)\n",
    "df['class'] = y\n",
    "\n",
    "# Saving the dataset (in data directory)\n",
    "df.to_csv('data/soybean_v1.csv', index=False)\n",
    "print(\"\\nDataset saved to 'data/soybean_v1.csv'\")\n",
    "\n",
    "\n",
    "\n"
   ]
  },
  {
   "cell_type": "code",
   "execution_count": 60,
   "metadata": {},
   "outputs": [
    {
     "data": {
      "text/html": [
       "<pre style=\"white-space:pre;overflow-x:auto;line-height:normal;font-family:Menlo,'DejaVu Sans Mono',consolas,'Courier New',monospace\"><span style=\"color: #7fbfbf; text-decoration-color: #7fbfbf\">[08/26/24 23:56:12] </span><span style=\"color: #800000; text-decoration-color: #800000\">WARNING </span> <span style=\"color: #800080; text-decoration-color: #800080\">/home/tathagat/workspace/projects/MLPE/tathagata-ai-839/.venv/lib/pyth</span> <a href=\"file:///usr/lib/python3.10/warnings.py\" target=\"_blank\"><span style=\"color: #7f7f7f; text-decoration-color: #7f7f7f\">warnings.py</span></a><span style=\"color: #7f7f7f; text-decoration-color: #7f7f7f\">:</span><a href=\"file:///usr/lib/python3.10/warnings.py#109\" target=\"_blank\"><span style=\"color: #7f7f7f; text-decoration-color: #7f7f7f\">109</span></a>\n",
       "<span style=\"color: #7fbfbf; text-decoration-color: #7fbfbf\">                    </span>         <span style=\"color: #800080; text-decoration-color: #800080\">on3.10/site-packages/pymfe/</span><span style=\"color: #ff00ff; text-decoration-color: #ff00ff\">_internal.py</span>:<span style=\"color: #008080; text-decoration-color: #008080; font-weight: bold\">1568</span>: UserWarning: It is not   <span style=\"color: #7f7f7f; text-decoration-color: #7f7f7f\">               </span>\n",
       "<span style=\"color: #7fbfbf; text-decoration-color: #7fbfbf\">                    </span>         possible make equal discretization                                     <span style=\"color: #7f7f7f; text-decoration-color: #7f7f7f\">               </span>\n",
       "<span style=\"color: #7fbfbf; text-decoration-color: #7fbfbf\">                    </span>           <span style=\"color: #800080; text-decoration-color: #800080; font-weight: bold\">warnings.warn</span><span style=\"font-weight: bold\">(</span><span style=\"color: #008000; text-decoration-color: #008000\">\"It is not possible make equal discretization\"</span><span style=\"font-weight: bold\">)</span>        <span style=\"color: #7f7f7f; text-decoration-color: #7f7f7f\">               </span>\n",
       "<span style=\"color: #7fbfbf; text-decoration-color: #7fbfbf\">                    </span>                                                                                <span style=\"color: #7f7f7f; text-decoration-color: #7f7f7f\">               </span>\n",
       "</pre>\n"
      ],
      "text/plain": [
       "\u001b[2;36m[08/26/24 23:56:12]\u001b[0m\u001b[2;36m \u001b[0m\u001b[31mWARNING \u001b[0m \u001b[35m/home/tathagat/workspace/projects/MLPE/tathagata-ai-839/.venv/lib/pyth\u001b[0m \u001b]8;id=516944;file:///usr/lib/python3.10/warnings.py\u001b\\\u001b[2mwarnings.py\u001b[0m\u001b]8;;\u001b\\\u001b[2m:\u001b[0m\u001b]8;id=736287;file:///usr/lib/python3.10/warnings.py#109\u001b\\\u001b[2m109\u001b[0m\u001b]8;;\u001b\\\n",
       "\u001b[2;36m                    \u001b[0m         \u001b[35mon3.10/site-packages/pymfe/\u001b[0m\u001b[95m_internal.py\u001b[0m:\u001b[1;36m1568\u001b[0m: UserWarning: It is not   \u001b[2m               \u001b[0m\n",
       "\u001b[2;36m                    \u001b[0m         possible make equal discretization                                     \u001b[2m               \u001b[0m\n",
       "\u001b[2;36m                    \u001b[0m           \u001b[1;35mwarnings.warn\u001b[0m\u001b[1m(\u001b[0m\u001b[32m\"It is not possible make equal discretization\"\u001b[0m\u001b[1m)\u001b[0m        \u001b[2m               \u001b[0m\n",
       "\u001b[2;36m                    \u001b[0m                                                                                \u001b[2m               \u001b[0m\n"
      ]
     },
     "metadata": {},
     "output_type": "display_data"
    },
    {
     "data": {
      "text/html": [
       "<pre style=\"white-space:pre;overflow-x:auto;line-height:normal;font-family:Menlo,'DejaVu Sans Mono',consolas,'Courier New',monospace\"><span style=\"color: #7fbfbf; text-decoration-color: #7fbfbf\">                    </span><span style=\"color: #800000; text-decoration-color: #800000\">WARNING </span> <span style=\"color: #800080; text-decoration-color: #800080\">/home/tathagat/workspace/projects/MLPE/tathagata-ai-839/.venv/lib/pyth</span> <a href=\"file:///usr/lib/python3.10/warnings.py\" target=\"_blank\"><span style=\"color: #7f7f7f; text-decoration-color: #7f7f7f\">warnings.py</span></a><span style=\"color: #7f7f7f; text-decoration-color: #7f7f7f\">:</span><a href=\"file:///usr/lib/python3.10/warnings.py#109\" target=\"_blank\"><span style=\"color: #7f7f7f; text-decoration-color: #7f7f7f\">109</span></a>\n",
       "<span style=\"color: #7fbfbf; text-decoration-color: #7fbfbf\">                    </span>         <span style=\"color: #800080; text-decoration-color: #800080\">on3.10/site-packages/pymfe/</span><span style=\"color: #ff00ff; text-decoration-color: #ff00ff\">_internal.py</span>:<span style=\"color: #008080; text-decoration-color: #008080; font-weight: bold\">1568</span>: UserWarning: It is not   <span style=\"color: #7f7f7f; text-decoration-color: #7f7f7f\">               </span>\n",
       "<span style=\"color: #7fbfbf; text-decoration-color: #7fbfbf\">                    </span>         possible make equal discretization                                     <span style=\"color: #7f7f7f; text-decoration-color: #7f7f7f\">               </span>\n",
       "<span style=\"color: #7fbfbf; text-decoration-color: #7fbfbf\">                    </span>           <span style=\"color: #800080; text-decoration-color: #800080; font-weight: bold\">warnings.warn</span><span style=\"font-weight: bold\">(</span><span style=\"color: #008000; text-decoration-color: #008000\">\"It is not possible make equal discretization\"</span><span style=\"font-weight: bold\">)</span>        <span style=\"color: #7f7f7f; text-decoration-color: #7f7f7f\">               </span>\n",
       "<span style=\"color: #7fbfbf; text-decoration-color: #7fbfbf\">                    </span>                                                                                <span style=\"color: #7f7f7f; text-decoration-color: #7f7f7f\">               </span>\n",
       "</pre>\n"
      ],
      "text/plain": [
       "\u001b[2;36m                   \u001b[0m\u001b[2;36m \u001b[0m\u001b[31mWARNING \u001b[0m \u001b[35m/home/tathagat/workspace/projects/MLPE/tathagata-ai-839/.venv/lib/pyth\u001b[0m \u001b]8;id=988888;file:///usr/lib/python3.10/warnings.py\u001b\\\u001b[2mwarnings.py\u001b[0m\u001b]8;;\u001b\\\u001b[2m:\u001b[0m\u001b]8;id=458995;file:///usr/lib/python3.10/warnings.py#109\u001b\\\u001b[2m109\u001b[0m\u001b]8;;\u001b\\\n",
       "\u001b[2;36m                    \u001b[0m         \u001b[35mon3.10/site-packages/pymfe/\u001b[0m\u001b[95m_internal.py\u001b[0m:\u001b[1;36m1568\u001b[0m: UserWarning: It is not   \u001b[2m               \u001b[0m\n",
       "\u001b[2;36m                    \u001b[0m         possible make equal discretization                                     \u001b[2m               \u001b[0m\n",
       "\u001b[2;36m                    \u001b[0m           \u001b[1;35mwarnings.warn\u001b[0m\u001b[1m(\u001b[0m\u001b[32m\"It is not possible make equal discretization\"\u001b[0m\u001b[1m)\u001b[0m        \u001b[2m               \u001b[0m\n",
       "\u001b[2;36m                    \u001b[0m                                                                                \u001b[2m               \u001b[0m\n"
      ]
     },
     "metadata": {},
     "output_type": "display_data"
    },
    {
     "name": "stdout",
     "output_type": "stream",
     "text": [
      "              Feature         Value\n",
      "0        nr_instances  6.830000e+02\n",
      "1       nr_attributes  3.500000e+01\n",
      "2        attr_to_inst  5.124451e-02\n",
      "3          nr_classes  1.900000e+01\n",
      "4          freq_class  1.346999e-01\n",
      "5      avg_categories  2.828571e+00\n",
      "6      max_categories  7.000000e+00\n",
      "7      min_categories  2.000000e+00\n",
      "8   most_common_value  0.000000e+00\n",
      "9      dna_percentage  0.000000e+00\n",
      "10  absent_percentage  0.000000e+00\n",
      "11          class_ent  3.835508e+00\n",
      "12       mut_inf.mean -6.095884e-07\n"
     ]
    }
   ],
   "source": [
    "import pandas as pd\n",
    "import numpy as np\n",
    "from pymfe.mfe import MFE\n",
    "\n",
    "results = {}\n",
    "\n",
    "results['nr_instances'] = df.shape[0]\n",
    "results['nr_attributes'] = df.shape[1] - 1  \n",
    "results['attr_to_inst'] = (df.shape[1] - 1) / df.shape[0]\n",
    "\n",
    "# Class information\n",
    "results['nr_classes'] = df['class'].nunique()\n",
    "results['freq_class'] = df['class'].value_counts().max() / len(df)\n",
    "\n",
    "# Categorical data specific information\n",
    "results['avg_categories'] = df.drop('class', axis=1).nunique().mean()\n",
    "results['max_categories'] = df.drop('class', axis=1).nunique().max()\n",
    "results['min_categories'] = df.drop('class', axis=1).nunique().min()\n",
    "\n",
    "# Most common values\n",
    "results['most_common_value'] = df.drop('class', axis=1).mode().iloc[0].mode()[0]\n",
    "results['dna_percentage'] = (df.drop('class', axis=1) == 'dna').mean().mean() * 100\n",
    "results['absent_percentage'] = (df.drop('class', axis=1) == 'absent').mean().mean() * 100\n",
    "\n",
    "# Try to extract some MFE features individually\n",
    "safe_mfe_features = ['class_ent', 'mut_inf']\n",
    "for feature in safe_mfe_features:\n",
    "    try:\n",
    "        mfe = MFE(features=[feature], random_state=42)\n",
    "        X_values = df.drop('class', axis=1).values\n",
    "        y_values = df['class'].values  # Convert to numpy array\n",
    "        mfe.fit(X_values, y_values)\n",
    "        ft = mfe.extract()\n",
    "        results[ft[0][0]] = ft[1][0]\n",
    "    except Exception as e:\n",
    "        print(f\"Couldn't extract {feature}: {str(e)}\")\n",
    "\n",
    "meta_features = pd.DataFrame(list(results.items()), columns=['Feature', 'Value'])\n",
    "print(meta_features)\n"
   ]
  }
 ],
 "metadata": {
  "kernelspec": {
   "display_name": "Kedro (tathagata_ai_839)",
   "language": "python",
   "name": "kedro_tathagata_ai_839"
  },
  "language_info": {
   "codemirror_mode": {
    "name": "ipython",
    "version": 3
   },
   "file_extension": ".py",
   "mimetype": "text/x-python",
   "name": "python",
   "nbconvert_exporter": "python",
   "pygments_lexer": "ipython3",
   "version": "3.10.12"
  }
 },
 "nbformat": 4,
 "nbformat_minor": 2
}
