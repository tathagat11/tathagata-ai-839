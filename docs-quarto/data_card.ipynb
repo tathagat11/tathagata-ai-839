{
 "cells": [
  {
   "cell_type": "markdown",
   "metadata": {},
   "source": [
    "---\n",
    "title: \"Data Card\"\n",
    "format:\n",
    "  html:\n",
    "    code-fold: true\n",
    "    css: styles.css\n",
    "jupyter: python3\n",
    "---\n",
    "### Dataset Description"
   ]
  },
  {
   "cell_type": "code",
   "execution_count": 1,
   "metadata": {},
   "outputs": [
    {
     "data": {
      "text/html": [
       "<pre style=\"white-space:pre;overflow-x:auto;line-height:normal;font-family:Menlo,'DejaVu Sans Mono',consolas,'Courier New',monospace\">• <span style=\"font-weight: bold\">Name</span>: dataset_id_96\n",
       "• <span style=\"font-weight: bold\">Description</span>: Credit risk assessment dataset\n",
       "• <span style=\"font-weight: bold\">Version</span>: <span style=\"color: #008080; text-decoration-color: #008080; font-weight: bold\">1.0</span>\n",
       "</pre>\n"
      ],
      "text/plain": [
       "• \u001b[1mName\u001b[0m: dataset_id_96\n",
       "• \u001b[1mDescription\u001b[0m: Credit risk assessment dataset\n",
       "• \u001b[1mVersion\u001b[0m: \u001b[1;36m1.0\u001b[0m\n"
      ]
     },
     "metadata": {},
     "output_type": "display_data"
    }
   ],
   "source": [
    "import json\n",
    "from rich import print\n",
    "from pathlib import Path\n",
    "\n",
    "name = \"dataset_id_96\"\n",
    "description = \"Credit risk assessment dataset\"\n",
    "creation_date = \"Unknown\"\n",
    "version = \"1.0\"\n",
    "\n",
    "print(f\"\"\"• [bold]Name[/bold]: {name}\n",
    "• [bold]Description[/bold]: {description}\n",
    "• [bold]Version[/bold]: {version}\"\"\")"
   ]
  },
  {
   "cell_type": "markdown",
   "metadata": {},
   "source": [
    "### Dataset Characteristics"
   ]
  },
  {
   "cell_type": "code",
   "execution_count": 2,
   "metadata": {},
   "outputs": [
    {
     "data": {
      "text/html": [
       "<pre style=\"white-space:pre;overflow-x:auto;line-height:normal;font-family:Menlo,'DejaVu Sans Mono',consolas,'Courier New',monospace\">• <span style=\"font-weight: bold\">Number of Instances</span>: <span style=\"color: #008080; text-decoration-color: #008080; font-weight: bold\">90</span>\n",
       "• <span style=\"font-weight: bold\">Number of Features</span>: <span style=\"color: #008080; text-decoration-color: #008080; font-weight: bold\">32</span>\n",
       "• <span style=\"font-weight: bold\">Target Variable</span>: y <span style=\"font-weight: bold\">(</span>boolean<span style=\"font-weight: bold\">)</span>\n",
       "</pre>\n"
      ],
      "text/plain": [
       "• \u001b[1mNumber of Instances\u001b[0m: \u001b[1;36m90\u001b[0m\n",
       "• \u001b[1mNumber of Features\u001b[0m: \u001b[1;36m32\u001b[0m\n",
       "• \u001b[1mTarget Variable\u001b[0m: y \u001b[1m(\u001b[0mboolean\u001b[1m)\u001b[0m\n"
      ]
     },
     "metadata": {},
     "output_type": "display_data"
    }
   ],
   "source": [
    "project_dir = Path().absolute().parent\n",
    "data_card_path = project_dir / \"data\" / \"08_reporting\" / \"data-card\" / \"data_card.json\"\n",
    "\n",
    "with open(data_card_path) as f:\n",
    "    data_card = json.load(f)\n",
    "    data_card = json.loads(data_card)\n",
    "print(f\"\"\"• [bold]Number of Instances[/bold]: {data_card['number_of_rows']}\n",
    "• [bold]Number of Features[/bold]: {data_card['number_of_features']}\n",
    "• [bold]Target Variable[/bold]: y (boolean)\"\"\")"
   ]
  },
  {
   "cell_type": "markdown",
   "metadata": {},
   "source": [
    "### Features"
   ]
  },
  {
   "cell_type": "code",
   "execution_count": 3,
   "metadata": {},
   "outputs": [
    {
     "data": {
      "text/html": [
       "<pre style=\"white-space:pre;overflow-x:auto;line-height:normal;font-family:Menlo,'DejaVu Sans Mono',consolas,'Courier New',monospace\"><span style=\"color: #008080; text-decoration-color: #008080; font-weight: bold\">1</span>. checking_status\n",
       "<span style=\"color: #008080; text-decoration-color: #008080; font-weight: bold\">2</span>. duration\n",
       "<span style=\"color: #008080; text-decoration-color: #008080; font-weight: bold\">3</span>. credit_history\n",
       "<span style=\"color: #008080; text-decoration-color: #008080; font-weight: bold\">4</span>. purpose\n",
       "<span style=\"color: #008080; text-decoration-color: #008080; font-weight: bold\">5</span>. credit_amount\n",
       "<span style=\"color: #008080; text-decoration-color: #008080; font-weight: bold\">6</span>. savings_status\n",
       "<span style=\"color: #008080; text-decoration-color: #008080; font-weight: bold\">7</span>. employment\n",
       "<span style=\"color: #008080; text-decoration-color: #008080; font-weight: bold\">8</span>. installment_commitment\n",
       "<span style=\"color: #008080; text-decoration-color: #008080; font-weight: bold\">9</span>. personal_status\n",
       "<span style=\"color: #008080; text-decoration-color: #008080; font-weight: bold\">10</span>. other_parties\n",
       "<span style=\"color: #008080; text-decoration-color: #008080; font-weight: bold\">11</span>. residence_since\n",
       "<span style=\"color: #008080; text-decoration-color: #008080; font-weight: bold\">12</span>. property_magnitude\n",
       "<span style=\"color: #008080; text-decoration-color: #008080; font-weight: bold\">13</span>. age\n",
       "<span style=\"color: #008080; text-decoration-color: #008080; font-weight: bold\">14</span>. other_payment_plans\n",
       "<span style=\"color: #008080; text-decoration-color: #008080; font-weight: bold\">15</span>. housing\n",
       "<span style=\"color: #008080; text-decoration-color: #008080; font-weight: bold\">16</span>. existing_credits\n",
       "<span style=\"color: #008080; text-decoration-color: #008080; font-weight: bold\">17</span>. job\n",
       "<span style=\"color: #008080; text-decoration-color: #008080; font-weight: bold\">18</span>. num_dependents\n",
       "<span style=\"color: #008080; text-decoration-color: #008080; font-weight: bold\">19</span>. own_telephone\n",
       "<span style=\"color: #008080; text-decoration-color: #008080; font-weight: bold\">20</span>. foreign_worker\n",
       "<span style=\"color: #008080; text-decoration-color: #008080; font-weight: bold\">21</span>. health_status\n",
       "<span style=\"color: #008080; text-decoration-color: #008080; font-weight: bold\">22</span>. X_1\n",
       "<span style=\"color: #008080; text-decoration-color: #008080; font-weight: bold\">23</span>. X_2\n",
       "<span style=\"color: #008080; text-decoration-color: #008080; font-weight: bold\">24</span>. X_3\n",
       "<span style=\"color: #008080; text-decoration-color: #008080; font-weight: bold\">25</span>. X_4\n",
       "<span style=\"color: #008080; text-decoration-color: #008080; font-weight: bold\">26</span>. X_5\n",
       "<span style=\"color: #008080; text-decoration-color: #008080; font-weight: bold\">27</span>. X_6\n",
       "<span style=\"color: #008080; text-decoration-color: #008080; font-weight: bold\">28</span>. X_7\n",
       "<span style=\"color: #008080; text-decoration-color: #008080; font-weight: bold\">29</span>. X_8\n",
       "<span style=\"color: #008080; text-decoration-color: #008080; font-weight: bold\">30</span>. X_9\n",
       "<span style=\"color: #008080; text-decoration-color: #008080; font-weight: bold\">31</span>. X_10\n",
       "<span style=\"color: #008080; text-decoration-color: #008080; font-weight: bold\">32</span>. y\n",
       "</pre>\n"
      ],
      "text/plain": [
       "\u001b[1;36m1\u001b[0m. checking_status\n",
       "\u001b[1;36m2\u001b[0m. duration\n",
       "\u001b[1;36m3\u001b[0m. credit_history\n",
       "\u001b[1;36m4\u001b[0m. purpose\n",
       "\u001b[1;36m5\u001b[0m. credit_amount\n",
       "\u001b[1;36m6\u001b[0m. savings_status\n",
       "\u001b[1;36m7\u001b[0m. employment\n",
       "\u001b[1;36m8\u001b[0m. installment_commitment\n",
       "\u001b[1;36m9\u001b[0m. personal_status\n",
       "\u001b[1;36m10\u001b[0m. other_parties\n",
       "\u001b[1;36m11\u001b[0m. residence_since\n",
       "\u001b[1;36m12\u001b[0m. property_magnitude\n",
       "\u001b[1;36m13\u001b[0m. age\n",
       "\u001b[1;36m14\u001b[0m. other_payment_plans\n",
       "\u001b[1;36m15\u001b[0m. housing\n",
       "\u001b[1;36m16\u001b[0m. existing_credits\n",
       "\u001b[1;36m17\u001b[0m. job\n",
       "\u001b[1;36m18\u001b[0m. num_dependents\n",
       "\u001b[1;36m19\u001b[0m. own_telephone\n",
       "\u001b[1;36m20\u001b[0m. foreign_worker\n",
       "\u001b[1;36m21\u001b[0m. health_status\n",
       "\u001b[1;36m22\u001b[0m. X_1\n",
       "\u001b[1;36m23\u001b[0m. X_2\n",
       "\u001b[1;36m24\u001b[0m. X_3\n",
       "\u001b[1;36m25\u001b[0m. X_4\n",
       "\u001b[1;36m26\u001b[0m. X_5\n",
       "\u001b[1;36m27\u001b[0m. X_6\n",
       "\u001b[1;36m28\u001b[0m. X_7\n",
       "\u001b[1;36m29\u001b[0m. X_8\n",
       "\u001b[1;36m30\u001b[0m. X_9\n",
       "\u001b[1;36m31\u001b[0m. X_10\n",
       "\u001b[1;36m32\u001b[0m. y\n"
      ]
     },
     "metadata": {},
     "output_type": "display_data"
    }
   ],
   "source": [
    "features_list = [f\"{i + 1}. {data_card['feature_names'][i]}\" \n",
    "                 for i in range(len(data_card[\"feature_names\"]))]\n",
    "print(\"\\n\".join(features_list))"
   ]
  },
  {
   "cell_type": "markdown",
   "metadata": {},
   "source": [
    "### Data Collection"
   ]
  },
  {
   "cell_type": "code",
   "execution_count": 4,
   "metadata": {},
   "outputs": [
    {
     "data": {
      "text/html": [
       "<pre style=\"white-space:pre;overflow-x:auto;line-height:normal;font-family:Menlo,'DejaVu Sans Mono',consolas,'Courier New',monospace\">• <span style=\"font-weight: bold\">Method</span>: Unknown\n",
       "</pre>\n"
      ],
      "text/plain": [
       "• \u001b[1mMethod\u001b[0m: Unknown\n"
      ]
     },
     "metadata": {},
     "output_type": "display_data"
    }
   ],
   "source": [
    "method = \"Unknown\"\n",
    "print(f\"• [bold]Method[/bold]: {method}\")"
   ]
  },
  {
   "cell_type": "markdown",
   "metadata": {},
   "source": [
    "### Intended Use"
   ]
  },
  {
   "cell_type": "code",
   "execution_count": 5,
   "metadata": {},
   "outputs": [
    {
     "data": {
      "text/html": [
       "<pre style=\"white-space:pre;overflow-x:auto;line-height:normal;font-family:Menlo,'DejaVu Sans Mono',consolas,'Courier New',monospace\">This dataset can be used to train machine learning models to predict the likelihood of\n",
       "credit default.\n",
       "      \n",
       "</pre>\n"
      ],
      "text/plain": [
       "This dataset can be used to train machine learning models to predict the likelihood of\n",
       "credit default.\n",
       "      \n"
      ]
     },
     "metadata": {},
     "output_type": "display_data"
    }
   ],
   "source": [
    "print(\"\"\"This dataset can be used to train machine learning models to predict the likelihood of\n",
    "credit default.\n",
    "      \"\"\")"
   ]
  },
  {
   "cell_type": "markdown",
   "metadata": {},
   "source": [
    "### Ethical Considerations"
   ]
  },
  {
   "cell_type": "code",
   "execution_count": 6,
   "metadata": {},
   "outputs": [
    {
     "data": {
      "text/html": [
       "<pre style=\"white-space:pre;overflow-x:auto;line-height:normal;font-family:Menlo,'DejaVu Sans Mono',consolas,'Courier New',monospace\">• Ensure fair and unbiased use of the data, particularly regarding protected attributes \n",
       "  like personal status.\n",
       "• Be cautious of potential biases in the original data collection process.\n",
       "• Consider the implications of using this data for decision-making in financial contexts.\n",
       "</pre>\n"
      ],
      "text/plain": [
       "• Ensure fair and unbiased use of the data, particularly regarding protected attributes \n",
       "  like personal status.\n",
       "• Be cautious of potential biases in the original data collection process.\n",
       "• Consider the implications of using this data for decision-making in financial contexts.\n"
      ]
     },
     "metadata": {},
     "output_type": "display_data"
    }
   ],
   "source": [
    "print(\"\"\"• Ensure fair and unbiased use of the data, particularly regarding protected attributes \n",
    "  like personal status.\n",
    "• Be cautious of potential biases in the original data collection process.\n",
    "• Consider the implications of using this data for decision-making in financial contexts.\"\"\")"
   ]
  },
  {
   "cell_type": "markdown",
   "metadata": {},
   "source": [
    "### Known Limitations"
   ]
  },
  {
   "cell_type": "code",
   "execution_count": 7,
   "metadata": {},
   "outputs": [
    {
     "data": {
      "text/html": [
       "<pre style=\"white-space:pre;overflow-x:auto;line-height:normal;font-family:Menlo,'DejaVu Sans Mono',consolas,'Courier New',monospace\">• The dataset is relatively small <span style=\"font-weight: bold\">(</span><span style=\"color: #008080; text-decoration-color: #008080; font-weight: bold\">90</span> instances<span style=\"font-weight: bold\">)</span>, which may limit its representativeness.\n",
       "• Some categorical variables may have imbalanced categories.\n",
       "• The additional numerical features <span style=\"font-weight: bold\">(</span>X_1 to X_10<span style=\"font-weight: bold\">)</span> lack clear descriptions of what they\n",
       "  represent.\n",
       "      \n",
       "</pre>\n"
      ],
      "text/plain": [
       "• The dataset is relatively small \u001b[1m(\u001b[0m\u001b[1;36m90\u001b[0m instances\u001b[1m)\u001b[0m, which may limit its representativeness.\n",
       "• Some categorical variables may have imbalanced categories.\n",
       "• The additional numerical features \u001b[1m(\u001b[0mX_1 to X_10\u001b[1m)\u001b[0m lack clear descriptions of what they\n",
       "  represent.\n",
       "      \n"
      ]
     },
     "metadata": {},
     "output_type": "display_data"
    }
   ],
   "source": [
    "print(f\"\"\"• The dataset is relatively small ({data_card['number_of_rows']} instances), which may limit its representativeness.\n",
    "• Some categorical variables may have imbalanced categories.\n",
    "• The additional numerical features (X_1 to X_10) lack clear descriptions of what they\n",
    "  represent.\n",
    "      \"\"\")"
   ]
  }
 ],
 "metadata": {
  "kernelspec": {
   "display_name": "Python 3 (ipykernel)",
   "language": "python",
   "name": "python3",
   "path": "/home/tathagat/workspace/projects/MLPE/tathagata-ai-839/.venv/share/jupyter/kernels/python3"
  },
  "language_info": {
   "codemirror_mode": {
    "name": "ipython",
    "version": 3
   },
   "file_extension": ".py",
   "mimetype": "text/x-python",
   "name": "python",
   "nbconvert_exporter": "python",
   "pygments_lexer": "ipython3",
   "version": "3.10.12"
  }
 },
 "nbformat": 4,
 "nbformat_minor": 2
}
