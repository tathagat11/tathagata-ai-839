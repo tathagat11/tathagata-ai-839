{
 "cells": [
  {
   "cell_type": "markdown",
   "metadata": {
    "tags": [
     "header"
    ]
   },
   "source": [
    "---\n",
    "title:  Project Card\n",
    "subtitle: Credit Risk Assessment\n",
    "version: v0.1\n",
    "card version: v0.1\n",
    "author: Tathagata Talukdar\n",
    "date: 24-Oct-2024\n",
    "objective: >\n",
    "    The purpose of Project Cards is two folds. During development, it helps the developer think about the problem in a structured way w.r. t framing the problem, assessing the business value, viability, and many other aspects. \n",
    "\n",
    "    It can also serve as a document giving a high level overview of the system developed and deployed. With proper versioning, one can also see the evolution of the problem. It is meant to be a high level document and as details emerge, documents such Model Cards and Data Cards can be linked.\n",
    "tag: >\n",
    "    This notebook uses tags to render the output. Each call has a tag. There are three tags: objective, instruction, response. \n",
    "    The cell with objective tag explains the purpose of this project card. Cells with instruction tag, are the key sections of the document that must be filled.  A cell following immediately will have a tag response. You only fill the cell with response tag. DO NOT MODIFY the cells with tag instruction. Of course, feel free to modify to your needs. Once the format is agreed upon, stick to it.\n",
    "format:\n",
    "    html:\n",
    "        code-fold: true\n",
    "---"
   ]
  },
  {
   "cell_type": "markdown",
   "metadata": {
    "tags": [
     "instruction"
    ]
   },
   "source": [
    "# Business View"
   ]
  },
  {
   "cell_type": "markdown",
   "metadata": {},
   "source": [
    "## Background"
   ]
  },
  {
   "cell_type": "markdown",
   "metadata": {
    "tags": [
     "response"
    ]
   },
   "source": [
    "Financial institutions face significant challenges in assessing credit risk for loan applications. Traditional credit scoring methods often miss nuanced patterns and can be biased against certain demographic groups. This leads to both missed opportunities for good borrowers being denied and increased risk from bad loans being approved. In today's competitive banking environment, institutions need more sophisticated ways to evaluate credit applications while maintaining regulatory compliance and fairness."
   ]
  },
  {
   "cell_type": "markdown",
   "metadata": {
    "tags": [
     "instruction"
    ]
   },
   "source": [
    "## Problem"
   ]
  },
  {
   "cell_type": "markdown",
   "metadata": {
    "tags": [
     "response"
    ]
   },
   "source": [
    "Banks need to accurately assess the creditworthiness of loan applicants to minimize default risk while maximizing approved loans to qualified borrowers. Currently, credit officers spend significant time manually reviewing applications and may make inconsistent decisions based on limited information. This results in both lost revenue from good applications being rejected and losses from bad loans being approved."
   ]
  },
  {
   "cell_type": "markdown",
   "metadata": {
    "tags": [
     "instruction"
    ]
   },
   "source": [
    "## Customer"
   ]
  },
  {
   "cell_type": "markdown",
   "metadata": {
    "tags": [
     "response"
    ]
   },
   "source": [
    "Primary customers are:\n",
    "\n",
    "- Credit risk officers at medium to large retail banks\n",
    "- Loan application processing teams\n",
    "- Banking compliance officers responsible for fair lending practices\n",
    "- Financial institutions serving diverse demographic populations"
   ]
  },
  {
   "cell_type": "markdown",
   "metadata": {
    "tags": [
     "instruction"
    ]
   },
   "source": [
    "## Value Proposition"
   ]
  },
  {
   "cell_type": "markdown",
   "metadata": {
    "tags": [
     "response"
    ]
   },
   "source": [
    "- Reduce loan default rates through more accurate risk assessment\n",
    "- Increase loan approval rates for qualified borrowers\n",
    "- Reduce application processing time\n",
    "- Improve consistency and fairness in lending decisions\n",
    "- Enable regulatory compliance through transparent decision-making"
   ]
  },
  {
   "cell_type": "markdown",
   "metadata": {
    "tags": [
     "instruction"
    ]
   },
   "source": [
    "## Product"
   ]
  },
  {
   "cell_type": "markdown",
   "metadata": {
    "tags": [
     "response"
    ]
   },
   "source": [
    "Credit officers will receive a streamlined workflow where they:\n",
    "1. Input standard loan application data into a familiar interface\n",
    "2. Receive an immediate risk assessment score with key contributing factors\n",
    "3. View detailed explanations of risk factors in an intuitive dashboard\n",
    "4. Override recommendations with documented justification when needed\n",
    "5. Generate standardized reports for audit and compliance purposes"
   ]
  },
  {
   "cell_type": "markdown",
   "metadata": {
    "tags": [
     "instruction"
    ]
   },
   "source": [
    "## Objectives"
   ]
  },
  {
   "cell_type": "markdown",
   "metadata": {
    "tags": [
     "response"
    ]
   },
   "source": [
    "1. Deploy MVP risk assessment system to pilot branch by Q4 2024\n",
    "2. Achieve 90% user adoption among credit officers within 6 months of launch\n",
    "3. Demonstrate statistical fairness across demographic groups within the next quarter after launch\n",
    "4. Obtain regulatory approval by mid 2025"
   ]
  },
  {
   "cell_type": "markdown",
   "metadata": {
    "tags": [
     "instruction"
    ]
   },
   "source": [
    "## Risks & Challenges"
   ]
  },
  {
   "cell_type": "markdown",
   "metadata": {
    "tags": [
     "response"
    ]
   },
   "source": [
    "1. Data Privacy & Security\n",
    "    - Handling sensitive financial and personal information\n",
    "    - Ensuring compliance with data protection regulations\n",
    "    - Securing data transfer between systems\n",
    "\n",
    "2. User Adoption\n",
    "    - Resistance from experienced credit officers\n",
    "    - Training requirements for new system\n",
    "    - Integration with existing workflows\n",
    "\n",
    "3. Regulatory Compliance\n",
    "    - Meeting fair lending requirements\n",
    "    - Providing required transparency in decisions\n",
    "    - Maintaining audit trails"
   ]
  },
  {
   "cell_type": "markdown",
   "metadata": {
    "tags": [
     "instruction"
    ]
   },
   "source": [
    "# ML View"
   ]
  },
  {
   "cell_type": "markdown",
   "metadata": {
    "tags": [
     "instruction"
    ]
   },
   "source": [
    "## Task"
   ]
  },
  {
   "cell_type": "markdown",
   "metadata": {
    "tags": [
     "response"
    ]
   },
   "source": [
    "This is a binary classification problem predicting credit risk based on the provided dataset (dataset_id_96.csv). According to the code and data samples, we need to predict 'y' (True/False) indicating whether a loan application represents a good or bad credit risk."
   ]
  },
  {
   "cell_type": "markdown",
   "metadata": {
    "tags": [
     "instruction"
    ]
   },
   "source": [
    "## Metrics"
   ]
  },
  {
   "cell_type": "markdown",
   "metadata": {
    "tags": [
     "response"
    ]
   },
   "source": [
    "- Primary: F1 score (currently being tracked in evaluate_model function)\n",
    "\n",
    "- Supporting metrics:\n",
    "  - Accuracy\n",
    "  - Precision\n",
    "  - Recall\n",
    "  - Target drift score (monitored via Evidently)"
   ]
  },
  {
   "cell_type": "markdown",
   "metadata": {
    "tags": [
     "instruction"
    ]
   },
   "source": [
    "## Evaluation"
   ]
  },
  {
   "cell_type": "markdown",
   "metadata": {
    "tags": [
     "response"
    ]
   },
   "source": [
    "Based on the provided pipeline code, evaluation happens through:\n",
    "1. Train/test split with configurable test size\n",
    "2. Target drift detection between training and test sets using Evidently\n",
    "3. Model performance tracking via MLflow\n",
    "4. Production monitoring through FastAPI logging\n",
    "5. Regular retraining evaluation"
   ]
  },
  {
   "cell_type": "markdown",
   "metadata": {
    "tags": [
     "instruction"
    ]
   },
   "source": [
    "## Data"
   ]
  },
  {
   "cell_type": "markdown",
   "metadata": {
    "tags": [
     "response"
    ]
   },
   "source": [
    "- Primary dataset: dataset_id_96.csv\n",
    "\n",
    "- Features include:\n",
    "  - Credit history attributes (checking_status, credit_history, etc.)\n",
    "  - Personal information (age, employment, etc.)\n",
    "  - Loan details (duration, credit_amount, etc.)\n",
    "  - Generated features (X_1 through X_10)\n",
    "\n",
    "- Data Pipeline:\n",
    "  - Raw data ingestion via Kedro\n",
    "  - Data quality checks\n",
    "  - Preprocessing including scaling and encoding\n",
    "  - Feature engineering\n",
    "  - Train/test splitting"
   ]
  },
  {
   "cell_type": "markdown",
   "metadata": {
    "tags": [
     "instruction"
    ]
   },
   "source": [
    "## Plan/Roadmap"
   ]
  },
  {
   "cell_type": "markdown",
   "metadata": {
    "tags": [
     "response"
    ]
   },
   "source": [
    "1. Phase 1 - Initial Development\n",
    "    - Enhance current data pipeline\n",
    "    - Implement additional data quality checks\n",
    "    - Develop model monitoring dashboard\n",
    "    - Complete initial model training\n",
    "\n",
    "2. Phase 2 - Pilot\n",
    "    - Deploy to pilot branch\n",
    "    - Gather user feedback\n",
    "    - Refine model based on real usage\n",
    "    - Implement A/B testing framework\n",
    "\n",
    "3. Phase 3 - Scale\n",
    "    - Roll out to additional branches\n",
    "    - Implement automated retraining pipeline\n",
    "    - Enhance monitoring and alerting\n",
    "    - Develop fallback procedures"
   ]
  },
  {
   "cell_type": "markdown",
   "metadata": {
    "tags": [
     "instruction"
    ]
   },
   "source": [
    "## Continuous Improvement"
   ]
  },
  {
   "cell_type": "markdown",
   "metadata": {},
   "source": [
    "1. Automated monitoring via:\n",
    "    - MLflow experiment tracking\n",
    "    - FastAPI request logging\n",
    "    - Evidently drift detection\n",
    "\n",
    "2. Regular Updates:\n",
    "    - Model retraining based on drift detection\n",
    "    - Feature importance analysis\n",
    "    - Performance metric tracking\n",
    "    - User feedback incorporation"
   ]
  },
  {
   "cell_type": "markdown",
   "metadata": {
    "tags": [
     "instruction"
    ]
   },
   "source": [
    "## Resources"
   ]
  },
  {
   "cell_type": "markdown",
   "metadata": {
    "tags": [
     "instruction"
    ]
   },
   "source": [
    "### Human Resources"
   ]
  },
  {
   "cell_type": "markdown",
   "metadata": {
    "tags": [
     "response"
    ]
   },
   "source": [
    "1. Data Science Team:\n",
    "    - 1 ML Engineers (model development)\n",
    "    - 1 Data Engineer (pipeline maintenance)\n",
    "    - 1 MLOps Engineer (deployment/monitoring)\n",
    "\n",
    "2. Product Team:\n",
    "    - 1 Product Manager\n",
    "    - 1 UX Designer\n",
    "    - 1 Full-stack Developers\n",
    "\n",
    "3. Domain Experts:\n",
    "    - 1 Credit Risk Officer\n",
    "    - 1 Compliance Officer"
   ]
  },
  {
   "cell_type": "markdown",
   "metadata": {
    "tags": [
     "instruction"
    ]
   },
   "source": [
    "### Compute Resources"
   ]
  },
  {
   "cell_type": "markdown",
   "metadata": {
    "tags": [
     "response"
    ]
   },
   "source": [
    "1. Development:\n",
    "    - Kedro pipeline execution environment\n",
    "    - MLflow tracking server\n",
    "    - Development databases\n",
    "\n",
    "2. Production:\n",
    "    - FastAPI server for model serving\n",
    "    - Model artifact storage\n",
    "    - Monitoring infrastructure\n",
    "    - Load balancing for high availability\n",
    "    - Backup and disaster recovery systems\n",
    "\n",
    "3. Storage:\n",
    "    - Secure data warehouse for sensitive information\n",
    "    - Model registry\n",
    "    - Log storage\n",
    "    - Backup storage"
   ]
  }
 ],
 "metadata": {
  "kernelspec": {
   "display_name": "Kedro (tathagata_ai_839)",
   "language": "python",
   "name": "kedro_tathagata_ai_839"
  },
  "language_info": {
   "codemirror_mode": {
    "name": "ipython",
    "version": 3
   },
   "file_extension": ".py",
   "mimetype": "text/x-python",
   "name": "python",
   "nbconvert_exporter": "python",
   "pygments_lexer": "ipython3",
   "version": "3.10.12"
  }
 },
 "nbformat": 4,
 "nbformat_minor": 4
}
