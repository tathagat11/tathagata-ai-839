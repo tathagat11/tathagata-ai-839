{
 "cells": [
  {
   "cell_type": "markdown",
   "metadata": {},
   "source": [
    "---\n",
    "title: \"Model Card\"\n",
    "format:\n",
    "  html:\n",
    "    code-fold: true\n",
    "jupyter: python3\n",
    "---\n",
    "### Model Description"
   ]
  },
  {
   "cell_type": "code",
   "execution_count": 1,
   "metadata": {},
   "outputs": [
    {
     "data": {
      "text/html": [
       "<pre style=\"white-space:pre;overflow-x:auto;line-height:normal;font-family:Menlo,'DejaVu Sans Mono',consolas,'Courier New',monospace\">• <span style=\"font-weight: bold\">Model Type</span>: RandomForestClassifier\n",
       "</pre>\n"
      ],
      "text/plain": [
       "• \u001b[1mModel Type\u001b[0m: RandomForestClassifier\n"
      ]
     },
     "metadata": {},
     "output_type": "display_data"
    }
   ],
   "source": [
    "import json\n",
    "from rich import print\n",
    "from pathlib import Path\n",
    "\n",
    "project_dir = Path().absolute().parent\n",
    "model_card_path = project_dir / \"data\" / \"08_reporting\" / \"model-card\" / \"model_card.json\"\n",
    "\n",
    "with open(model_card_path) as f:\n",
    "    model_card = json.load(f)\n",
    "    model_card = json.loads(model_card)\n",
    "\n",
    "print(f\"\"\"• [bold]Model Type[/bold]: {model_card['model_type']}\"\"\")"
   ]
  },
  {
   "cell_type": "markdown",
   "metadata": {},
   "source": [
    "### Intended Use"
   ]
  },
  {
   "cell_type": "code",
   "execution_count": 2,
   "metadata": {},
   "outputs": [
    {
     "data": {
      "text/html": [
       "<pre style=\"white-space:pre;overflow-x:auto;line-height:normal;font-family:Menlo,'DejaVu Sans Mono',consolas,'Courier New',monospace\">• <span style=\"font-weight: bold\">Primary Use</span>: Credit risk assessment\n",
       "• <span style=\"font-weight: bold\">Intended Users</span>: Financial institutions, credit analysts\n",
       "</pre>\n"
      ],
      "text/plain": [
       "• \u001b[1mPrimary Use\u001b[0m: Credit risk assessment\n",
       "• \u001b[1mIntended Users\u001b[0m: Financial institutions, credit analysts\n"
      ]
     },
     "metadata": {},
     "output_type": "display_data"
    }
   ],
   "source": [
    "print(\"\"\"• [bold]Primary Use[/bold]: Credit risk assessment\n",
    "• [bold]Intended Users[/bold]: Financial institutions, credit analysts\"\"\")"
   ]
  },
  {
   "cell_type": "markdown",
   "metadata": {},
   "source": [
    "### Model Architecture"
   ]
  },
  {
   "cell_type": "code",
   "execution_count": 3,
   "metadata": {},
   "outputs": [
    {
     "data": {
      "text/html": [
       "<pre style=\"white-space:pre;overflow-x:auto;line-height:normal;font-family:Menlo,'DejaVu Sans Mono',consolas,'Courier New',monospace\">• <span style=\"font-weight: bold\">Base Estimators</span>: <span style=\"color: #008080; text-decoration-color: #008080; font-weight: bold\">10</span> decision trees\n",
       "• <span style=\"font-weight: bold\">Max Depth</span>: <span style=\"color: #008080; text-decoration-color: #008080; font-weight: bold\">5</span>\n",
       "• <span style=\"font-weight: bold\">Criterion</span>: gini\n",
       "</pre>\n"
      ],
      "text/plain": [
       "• \u001b[1mBase Estimators\u001b[0m: \u001b[1;36m10\u001b[0m decision trees\n",
       "• \u001b[1mMax Depth\u001b[0m: \u001b[1;36m5\u001b[0m\n",
       "• \u001b[1mCriterion\u001b[0m: gini\n"
      ]
     },
     "metadata": {},
     "output_type": "display_data"
    }
   ],
   "source": [
    "print(f\"\"\"• [bold]Base Estimators[/bold]: {model_card['model_parameters']['n_estimators']} decision trees\n",
    "• [bold]Max Depth[/bold]: {model_card['model_parameters']['max_depth']}\n",
    "• [bold]Criterion[/bold]: {model_card['model_parameters']['criterion']}\"\"\")"
   ]
  },
  {
   "cell_type": "markdown",
   "metadata": {},
   "source": [
    "### Model Parameters"
   ]
  },
  {
   "cell_type": "code",
   "execution_count": 4,
   "metadata": {},
   "outputs": [
    {
     "data": {
      "text/html": [
       "<pre style=\"white-space:pre;overflow-x:auto;line-height:normal;font-family:Menlo,'DejaVu Sans Mono',consolas,'Courier New',monospace\"><span style=\"color: #008080; text-decoration-color: #008080; font-weight: bold\">1</span>. bootstrap: <span style=\"color: #00ff00; text-decoration-color: #00ff00; font-style: italic\">True</span>\n",
       "<span style=\"color: #008080; text-decoration-color: #008080; font-weight: bold\">2</span>. ccp_alpha: <span style=\"color: #008080; text-decoration-color: #008080; font-weight: bold\">0.0</span>\n",
       "<span style=\"color: #008080; text-decoration-color: #008080; font-weight: bold\">3</span>. class_weight: <span style=\"color: #800080; text-decoration-color: #800080; font-style: italic\">None</span>\n",
       "<span style=\"color: #008080; text-decoration-color: #008080; font-weight: bold\">4</span>. criterion: gini\n",
       "<span style=\"color: #008080; text-decoration-color: #008080; font-weight: bold\">5</span>. max_depth: <span style=\"color: #008080; text-decoration-color: #008080; font-weight: bold\">5</span>\n",
       "<span style=\"color: #008080; text-decoration-color: #008080; font-weight: bold\">6</span>. max_features: sqrt\n",
       "<span style=\"color: #008080; text-decoration-color: #008080; font-weight: bold\">7</span>. max_leaf_nodes: <span style=\"color: #800080; text-decoration-color: #800080; font-style: italic\">None</span>\n",
       "<span style=\"color: #008080; text-decoration-color: #008080; font-weight: bold\">8</span>. max_samples: <span style=\"color: #800080; text-decoration-color: #800080; font-style: italic\">None</span>\n",
       "<span style=\"color: #008080; text-decoration-color: #008080; font-weight: bold\">9</span>. min_impurity_decrease: <span style=\"color: #008080; text-decoration-color: #008080; font-weight: bold\">0.0</span>\n",
       "<span style=\"color: #008080; text-decoration-color: #008080; font-weight: bold\">10</span>. min_samples_leaf: <span style=\"color: #008080; text-decoration-color: #008080; font-weight: bold\">1</span>\n",
       "<span style=\"color: #008080; text-decoration-color: #008080; font-weight: bold\">11</span>. min_samples_split: <span style=\"color: #008080; text-decoration-color: #008080; font-weight: bold\">2</span>\n",
       "<span style=\"color: #008080; text-decoration-color: #008080; font-weight: bold\">12</span>. min_weight_fraction_leaf: <span style=\"color: #008080; text-decoration-color: #008080; font-weight: bold\">0.0</span>\n",
       "<span style=\"color: #008080; text-decoration-color: #008080; font-weight: bold\">13</span>. monotonic_cst: <span style=\"color: #800080; text-decoration-color: #800080; font-style: italic\">None</span>\n",
       "<span style=\"color: #008080; text-decoration-color: #008080; font-weight: bold\">14</span>. n_estimators: <span style=\"color: #008080; text-decoration-color: #008080; font-weight: bold\">10</span>\n",
       "<span style=\"color: #008080; text-decoration-color: #008080; font-weight: bold\">15</span>. n_jobs: <span style=\"color: #800080; text-decoration-color: #800080; font-style: italic\">None</span>\n",
       "<span style=\"color: #008080; text-decoration-color: #008080; font-weight: bold\">16</span>. oob_score: <span style=\"color: #ff0000; text-decoration-color: #ff0000; font-style: italic\">False</span>\n",
       "<span style=\"color: #008080; text-decoration-color: #008080; font-weight: bold\">17</span>. random_state: <span style=\"color: #800080; text-decoration-color: #800080; font-style: italic\">None</span>\n",
       "<span style=\"color: #008080; text-decoration-color: #008080; font-weight: bold\">18</span>. verbose: <span style=\"color: #008080; text-decoration-color: #008080; font-weight: bold\">0</span>\n",
       "<span style=\"color: #008080; text-decoration-color: #008080; font-weight: bold\">19</span>. warm_start: <span style=\"color: #ff0000; text-decoration-color: #ff0000; font-style: italic\">False</span>\n",
       "</pre>\n"
      ],
      "text/plain": [
       "\u001b[1;36m1\u001b[0m. bootstrap: \u001b[3;92mTrue\u001b[0m\n",
       "\u001b[1;36m2\u001b[0m. ccp_alpha: \u001b[1;36m0.0\u001b[0m\n",
       "\u001b[1;36m3\u001b[0m. class_weight: \u001b[3;35mNone\u001b[0m\n",
       "\u001b[1;36m4\u001b[0m. criterion: gini\n",
       "\u001b[1;36m5\u001b[0m. max_depth: \u001b[1;36m5\u001b[0m\n",
       "\u001b[1;36m6\u001b[0m. max_features: sqrt\n",
       "\u001b[1;36m7\u001b[0m. max_leaf_nodes: \u001b[3;35mNone\u001b[0m\n",
       "\u001b[1;36m8\u001b[0m. max_samples: \u001b[3;35mNone\u001b[0m\n",
       "\u001b[1;36m9\u001b[0m. min_impurity_decrease: \u001b[1;36m0.0\u001b[0m\n",
       "\u001b[1;36m10\u001b[0m. min_samples_leaf: \u001b[1;36m1\u001b[0m\n",
       "\u001b[1;36m11\u001b[0m. min_samples_split: \u001b[1;36m2\u001b[0m\n",
       "\u001b[1;36m12\u001b[0m. min_weight_fraction_leaf: \u001b[1;36m0.0\u001b[0m\n",
       "\u001b[1;36m13\u001b[0m. monotonic_cst: \u001b[3;35mNone\u001b[0m\n",
       "\u001b[1;36m14\u001b[0m. n_estimators: \u001b[1;36m10\u001b[0m\n",
       "\u001b[1;36m15\u001b[0m. n_jobs: \u001b[3;35mNone\u001b[0m\n",
       "\u001b[1;36m16\u001b[0m. oob_score: \u001b[3;91mFalse\u001b[0m\n",
       "\u001b[1;36m17\u001b[0m. random_state: \u001b[3;35mNone\u001b[0m\n",
       "\u001b[1;36m18\u001b[0m. verbose: \u001b[1;36m0\u001b[0m\n",
       "\u001b[1;36m19\u001b[0m. warm_start: \u001b[3;91mFalse\u001b[0m\n"
      ]
     },
     "metadata": {},
     "output_type": "display_data"
    }
   ],
   "source": [
    "params_list = [f\"{i + 1}. {key}: {value}\" \n",
    "               for i, (key, value) in enumerate(model_card['model_parameters'].items())]\n",
    "print(\"\\n\".join(params_list))"
   ]
  },
  {
   "cell_type": "markdown",
   "metadata": {},
   "source": [
    "### Performance Metrics"
   ]
  },
  {
   "cell_type": "code",
   "execution_count": 5,
   "metadata": {},
   "outputs": [
    {
     "data": {
      "text/html": [
       "<pre style=\"white-space:pre;overflow-x:auto;line-height:normal;font-family:Menlo,'DejaVu Sans Mono',consolas,'Courier New',monospace\">• <span style=\"font-weight: bold\">Accuracy</span>: <span style=\"color: #008080; text-decoration-color: #008080; font-weight: bold\">0.78</span>\n",
       "• <span style=\"font-weight: bold\">Precision</span>: <span style=\"color: #008080; text-decoration-color: #008080; font-weight: bold\">0.64</span>\n",
       "• <span style=\"font-weight: bold\">Recall</span>: <span style=\"color: #008080; text-decoration-color: #008080; font-weight: bold\">1.00</span>\n",
       "• <span style=\"font-weight: bold\">F1 Score</span>: <span style=\"color: #008080; text-decoration-color: #008080; font-weight: bold\">0.78</span>\n",
       "</pre>\n"
      ],
      "text/plain": [
       "• \u001b[1mAccuracy\u001b[0m: \u001b[1;36m0.78\u001b[0m\n",
       "• \u001b[1mPrecision\u001b[0m: \u001b[1;36m0.64\u001b[0m\n",
       "• \u001b[1mRecall\u001b[0m: \u001b[1;36m1.00\u001b[0m\n",
       "• \u001b[1mF1 Score\u001b[0m: \u001b[1;36m0.78\u001b[0m\n"
      ]
     },
     "metadata": {},
     "output_type": "display_data"
    }
   ],
   "source": [
    "print(f\"\"\"• [bold]Accuracy[/bold]: {model_card['evaluation_metrics']['accuracy']:.2f}\n",
    "• [bold]Precision[/bold]: {model_card['evaluation_metrics']['precision']:.2f}\n",
    "• [bold]Recall[/bold]: {model_card['evaluation_metrics']['recall']:.2f}\n",
    "• [bold]F1 Score[/bold]: {model_card['evaluation_metrics']['f1']:.2f}\"\"\")"
   ]
  },
  {
   "cell_type": "markdown",
   "metadata": {},
   "source": [
    "### Training Data"
   ]
  },
  {
   "cell_type": "code",
   "execution_count": 6,
   "metadata": {},
   "outputs": [
    {
     "data": {
      "text/html": [
       "<pre style=\"white-space:pre;overflow-x:auto;line-height:normal;font-family:Menlo,'DejaVu Sans Mono',consolas,'Courier New',monospace\">• <span style=\"font-weight: bold\">Dataset</span>: dataset_id_96\n",
       "• <span style=\"font-weight: bold\">Splitting Method</span>: Random split <span style=\"font-weight: bold\">(</span><span style=\"color: #008080; text-decoration-color: #008080; font-weight: bold\">80</span>% training, <span style=\"color: #008080; text-decoration-color: #008080; font-weight: bold\">20</span>% testing<span style=\"font-weight: bold\">)</span>\n",
       "• <span style=\"font-weight: bold\">Preprocessing</span>: Standard scaling for numerical features, one-hot encoding for\n",
       "  categorical features\n",
       "</pre>\n"
      ],
      "text/plain": [
       "• \u001b[1mDataset\u001b[0m: dataset_id_96\n",
       "• \u001b[1mSplitting Method\u001b[0m: Random split \u001b[1m(\u001b[0m\u001b[1;36m80\u001b[0m% training, \u001b[1;36m20\u001b[0m% testing\u001b[1m)\u001b[0m\n",
       "• \u001b[1mPreprocessing\u001b[0m: Standard scaling for numerical features, one-hot encoding for\n",
       "  categorical features\n"
      ]
     },
     "metadata": {},
     "output_type": "display_data"
    }
   ],
   "source": [
    "print(\"\"\"• [bold]Dataset[/bold]: dataset_id_96\n",
    "• [bold]Splitting Method[/bold]: Random split (80% training, 20% testing)\n",
    "• [bold]Preprocessing[/bold]: Standard scaling for numerical features, one-hot encoding for\n",
    "  categorical features\"\"\")"
   ]
  },
  {
   "cell_type": "markdown",
   "metadata": {},
   "source": [
    "### Ethical Considerations"
   ]
  },
  {
   "cell_type": "code",
   "execution_count": 7,
   "metadata": {},
   "outputs": [
    {
     "data": {
      "text/html": [
       "<pre style=\"white-space:pre;overflow-x:auto;line-height:normal;font-family:Menlo,'DejaVu Sans Mono',consolas,'Courier New',monospace\">• Decisions based on this model's output should be explainable and challengeable.\n",
       "• The model should be used in compliance with relevant financial regulations and data\n",
       "  protection laws.\n",
       "</pre>\n"
      ],
      "text/plain": [
       "• Decisions based on this model's output should be explainable and challengeable.\n",
       "• The model should be used in compliance with relevant financial regulations and data\n",
       "  protection laws.\n"
      ]
     },
     "metadata": {},
     "output_type": "display_data"
    }
   ],
   "source": [
    "print(\"\"\"• Decisions based on this model's output should be explainable and challengeable.\n",
    "• The model should be used in compliance with relevant financial regulations and data\n",
    "  protection laws.\"\"\")"
   ]
  },
  {
   "cell_type": "markdown",
   "metadata": {},
   "source": [
    "### Caveats and Recommendations"
   ]
  },
  {
   "cell_type": "code",
   "execution_count": 8,
   "metadata": {},
   "outputs": [
    {
     "data": {
      "text/html": [
       "<pre style=\"white-space:pre;overflow-x:auto;line-height:normal;font-family:Menlo,'DejaVu Sans Mono',consolas,'Courier New',monospace\">• The model's performance may vary for different subgroups. It's recommended to evaluate\n",
       "  the model's fairness across various demographic groups.\n",
       "• Regular retraining is advised to ensure the model remains accurate as financial trends\n",
       "  evolve.\n",
       "• The model should be used in conjunction with other risk assessment methods and human\n",
       "  judgment.\n",
       "</pre>\n"
      ],
      "text/plain": [
       "• The model's performance may vary for different subgroups. It's recommended to evaluate\n",
       "  the model's fairness across various demographic groups.\n",
       "• Regular retraining is advised to ensure the model remains accurate as financial trends\n",
       "  evolve.\n",
       "• The model should be used in conjunction with other risk assessment methods and human\n",
       "  judgment.\n"
      ]
     },
     "metadata": {},
     "output_type": "display_data"
    }
   ],
   "source": [
    "print(\"\"\"• The model's performance may vary for different subgroups. It's recommended to evaluate\n",
    "  the model's fairness across various demographic groups.\n",
    "• Regular retraining is advised to ensure the model remains accurate as financial trends\n",
    "  evolve.\n",
    "• The model should be used in conjunction with other risk assessment methods and human\n",
    "  judgment.\"\"\")"
   ]
  }
 ],
 "metadata": {
  "kernelspec": {
   "display_name": "Python 3 (ipykernel)",
   "language": "python",
   "name": "python3",
   "path": "/home/tathagat/workspace/projects/MLPE/tathagata-ai-839/.venv/share/jupyter/kernels/python3"
  },
  "language_info": {
   "codemirror_mode": {
    "name": "ipython",
    "version": 3
   },
   "file_extension": ".py",
   "mimetype": "text/x-python",
   "name": "python",
   "nbconvert_exporter": "python",
   "pygments_lexer": "ipython3",
   "version": "3.10.12"
  }
 },
 "nbformat": 4,
 "nbformat_minor": 2
}
